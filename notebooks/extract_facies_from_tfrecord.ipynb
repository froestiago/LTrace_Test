{
 "cells": [
  {
   "cell_type": "code",
   "execution_count": 1,
   "metadata": {},
   "outputs": [],
   "source": [
    "import torch\n",
    "from tfrecord.torch.dataset import TFRecordDataset\n",
    "import numpy as np\n",
    "\n",
    "tfrecord_path = \"/Users/tiagofroes/LTrace/original_gansim/Trainingdata/DataSets/TrainingData/TrainingData-1r06.tfrecords\""
   ]
  },
  {
   "cell_type": "code",
   "execution_count": 2,
   "metadata": {},
   "outputs": [],
   "source": [
    "# Load dataset from tfrecord file\n",
    "\n",
    "description = {\"data\": \"byte\"} # map\n",
    "index_path = None\n",
    "dataset = TFRecordDataset(tfrecord_path, index_path, description)"
   ]
  },
  {
   "cell_type": "code",
   "execution_count": 3,
   "metadata": {},
   "outputs": [],
   "source": [
    "# create pytorch dataloader\n",
    "\n",
    "loader = torch.utils.data.DataLoader(dataset, batch_size=1, shuffle=False)"
   ]
  },
  {
   "cell_type": "code",
   "execution_count": 4,
   "metadata": {},
   "outputs": [],
   "source": [
    "facies = []\n",
    "\n",
    "for i in loader:\n",
    "    image_array = np.frombuffer(i['data'][0], dtype=np.uint8) # data is in a weird buffer thing\n",
    "    image_array = image_array.reshape(1, 64, 64)\n",
    "    facies.append(image_array)"
   ]
  },
  {
   "cell_type": "code",
   "execution_count": 5,
   "metadata": {},
   "outputs": [],
   "source": [
    "np.save('/Users/tiagofroes/LTrace/facies.npy', facies)"
   ]
  }
 ],
 "metadata": {
  "kernelspec": {
   "display_name": "base",
   "language": "python",
   "name": "python3"
  },
  "language_info": {
   "codemirror_mode": {
    "name": "ipython",
    "version": 3
   },
   "file_extension": ".py",
   "mimetype": "text/x-python",
   "name": "python",
   "nbconvert_exporter": "python",
   "pygments_lexer": "ipython3",
   "version": "3.11.3"
  }
 },
 "nbformat": 4,
 "nbformat_minor": 2
}
